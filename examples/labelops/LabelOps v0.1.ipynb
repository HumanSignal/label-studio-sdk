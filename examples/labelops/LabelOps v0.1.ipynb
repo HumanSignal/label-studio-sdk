{
 "cells": [
  {
   "cell_type": "markdown",
   "metadata": {},
   "source": [
    "First we create LabelOps instance to work with specific Label Studio project, referring it by ID.\n",
    "\n",
    "1. Get your **Access Token** on *Account & Settings* page.\n",
    "\n",
    "2. Create project with the following configuration:\n",
    "\n",
    "```xml\n",
    "<View>\n",
    "  <Text name=\"text\" value=\"$text\"/>\n",
    "    <Choices name=\"label\" toName=\"text\" choice=\"single\" showInLine=\"true\">\n",
    "      <Choice value=\"Positive\"/>\n",
    "      <Choice value=\"Negative\"/>\n",
    "    </Choices>\n",
    "</View>\n",
    "```\n",
    "\n",
    "3. Upload tasks (note current limitation of <1000 tasks per project)"
   ]
  },
  {
   "cell_type": "code",
   "execution_count": 17,
   "metadata": {},
   "outputs": [],
   "source": [
    "import json\n",
    "from label_studio_sdk.labelops import LabelOps\n",
    "\n",
    "labelops = LabelOps(project_id=123, api_key='Your-Access-Token')"
   ]
  },
  {
   "cell_type": "markdown",
   "metadata": {},
   "source": [
    "Next step is to initialize and index current project tasks. This process could take a while, therefore we can check project initialization status to be in *FINISHED* state.\n",
    "\n",
    "Only tasks' data will be processed, annotations / predictions could be built after. Annotations' data is going to be used to assess LabelOps results"
   ]
  },
  {
   "cell_type": "code",
   "execution_count": 15,
   "metadata": {},
   "outputs": [
    {
     "data": {
      "text/plain": [
       "{'loaded': [312]}"
      ]
     },
     "execution_count": 15,
     "metadata": {},
     "output_type": "execute_result"
    }
   ],
   "source": [
    "labelops.initialize_project()"
   ]
  },
  {
   "cell_type": "code",
   "execution_count": 18,
   "metadata": {
    "scrolled": true
   },
   "outputs": [
    {
     "data": {
      "text/plain": [
       "b'FINISHED'"
      ]
     },
     "execution_count": 18,
     "metadata": {},
     "output_type": "execute_result"
    }
   ],
   "source": [
    "labelops.check_project_status()"
   ]
  },
  {
   "cell_type": "markdown",
   "metadata": {},
   "source": [
    "Then we can declare our LabelOps. Each LabelOp consists of \n",
    "- `\"name\"`: arbitrary LabelOp identifier\n",
    "- `\"label\"`: actual label that is going to be assigned\n",
    "- `\"pattern\"`: matching pattern\n",
    "\n",
    "Two types of text-based matching patterns are used here:\n",
    "\n",
    "1. **Regex** - it takes task data by specified query key (`\"text\"`) and apply regular expression to match\n",
    "2. **Entities** - having a list of entities of different types (coming from dependency parser and named entity recognizer), it tries to find the dependency pattern that follows the item order in the list. In the example bellow, it searches for `\"VERB\"` ([part-of-speech tag](https://spacy.io/usage/linguistic-features#pos-tagging))  pointed to some generic `\"PERSON\"` named entity, that matches a pattern like \"Mr. Brown says...\"."
   ]
  },
  {
   "cell_type": "code",
   "execution_count": 53,
   "metadata": {},
   "outputs": [],
   "source": [
    "# ['CARDINAL', 'DATE', 'EVENT', 'FAC', 'GPE', 'LANGUAGE', 'LAW', 'LOC', 'MONEY', 'NORP', 'ORDINAL', 'ORG', 'PERCENT', 'PERSON', 'PRODUCT', 'QUANTITY', 'TIME', 'WORK_OF_ART']\n",
    "params = [{\n",
    "    \"name\": \"Product Positive Feedback\",\n",
    "    \"label\": \"Positive\",\n",
    "    \"pattern\": [{\n",
    "        \"type\": \"Entities\",\n",
    "        \"query\": [\n",
    "            {\"type\": \"ner\", \"label\": \"PRODUCT\"}\n",
    "        ]\n",
    "    }, {\n",
    "        \"type\": \"Regex\",\n",
    "        \"query\": {\n",
    "            \"text\": \".*I\\s+would\\s+recommend.*\"\n",
    "        }\n",
    "    }]\n",
    "}, {\n",
    "    \"name\": \"Overall Negative Feedback\",\n",
    "    \"label\": \"Negative\",\n",
    "    \"pattern\": [{\n",
    "        \"type\": \"Regex\",\n",
    "        \"query\": {\n",
    "            \"text\": \".*(junk|crap).*\"\n",
    "        }\n",
    "    }]\n",
    "}]"
   ]
  },
  {
   "cell_type": "code",
   "execution_count": 54,
   "metadata": {},
   "outputs": [],
   "source": [
    "result = labelops.apply(params)"
   ]
  },
  {
   "cell_type": "markdown",
   "metadata": {},
   "source": [
    "After applying declared LabelOps to existed project, we can evaluate various performance statistics over LabelOps like\n",
    "- **coverage** - how well LabelOp cover the dataset\n",
    "- **conflict** - how many conflicts current LabelOp produces with other LabelOps\n",
    "- **accuracy** - empirical accuracy based on existing annotations. You can always annotate more to get more ground truth samples to get more accurate estimates."
   ]
  },
  {
   "cell_type": "code",
   "execution_count": 55,
   "metadata": {},
   "outputs": [
    {
     "data": {
      "text/html": [
       "<div>\n",
       "<style scoped>\n",
       "    .dataframe tbody tr th:only-of-type {\n",
       "        vertical-align: middle;\n",
       "    }\n",
       "\n",
       "    .dataframe tbody tr th {\n",
       "        vertical-align: top;\n",
       "    }\n",
       "\n",
       "    .dataframe thead th {\n",
       "        text-align: right;\n",
       "    }\n",
       "</style>\n",
       "<table border=\"1\" class=\"dataframe\">\n",
       "  <thead>\n",
       "    <tr style=\"text-align: right;\">\n",
       "      <th></th>\n",
       "      <th>name</th>\n",
       "      <th>coverage</th>\n",
       "      <th>conflict</th>\n",
       "      <th>accuracy</th>\n",
       "    </tr>\n",
       "  </thead>\n",
       "  <tbody>\n",
       "    <tr>\n",
       "      <th>0</th>\n",
       "      <td>Product Positive Feedback</td>\n",
       "      <td>0.083333</td>\n",
       "      <td>0.0</td>\n",
       "      <td>0.0</td>\n",
       "    </tr>\n",
       "    <tr>\n",
       "      <th>1</th>\n",
       "      <td>Overall Negative Feedback</td>\n",
       "      <td>0.916667</td>\n",
       "      <td>0.0</td>\n",
       "      <td>0.0</td>\n",
       "    </tr>\n",
       "  </tbody>\n",
       "</table>\n",
       "</div>"
      ],
      "text/plain": [
       "                        name  coverage  conflict  accuracy\n",
       "0  Product Positive Feedback  0.083333       0.0       0.0\n",
       "1  Overall Negative Feedback  0.916667       0.0       0.0"
      ]
     },
     "execution_count": 55,
     "metadata": {},
     "output_type": "execute_result"
    }
   ],
   "source": [
    "import pandas as pd\n",
    "pd.DataFrame.from_records(result[\"stats\"])"
   ]
  },
  {
   "cell_type": "markdown",
   "metadata": {},
   "source": [
    "We can also check how well our LabelOps perform on existing tasks when being aggregated..."
   ]
  },
  {
   "cell_type": "code",
   "execution_count": 56,
   "metadata": {},
   "outputs": [
    {
     "data": {
      "text/html": [
       "<div>\n",
       "<style scoped>\n",
       "    .dataframe tbody tr th:only-of-type {\n",
       "        vertical-align: middle;\n",
       "    }\n",
       "\n",
       "    .dataframe tbody tr th {\n",
       "        vertical-align: top;\n",
       "    }\n",
       "\n",
       "    .dataframe thead th {\n",
       "        text-align: right;\n",
       "    }\n",
       "</style>\n",
       "<table border=\"1\" class=\"dataframe\">\n",
       "  <thead>\n",
       "    <tr style=\"text-align: right;\">\n",
       "      <th></th>\n",
       "      <th>task</th>\n",
       "      <th>text</th>\n",
       "      <th>label</th>\n",
       "    </tr>\n",
       "  </thead>\n",
       "  <tbody>\n",
       "    <tr>\n",
       "      <th>0</th>\n",
       "      <td>6679359</td>\n",
       "      <td>Absolutel junk.</td>\n",
       "      <td>Negative</td>\n",
       "    </tr>\n",
       "    <tr>\n",
       "      <th>1</th>\n",
       "      <td>6679481</td>\n",
       "      <td>The worst piece of crap ever along with the Ve...</td>\n",
       "      <td>Negative</td>\n",
       "    </tr>\n",
       "    <tr>\n",
       "      <th>2</th>\n",
       "      <td>6679556</td>\n",
       "      <td>BT50 battery junk!.</td>\n",
       "      <td>Negative</td>\n",
       "    </tr>\n",
       "    <tr>\n",
       "      <th>3</th>\n",
       "      <td>6679590</td>\n",
       "      <td>Pretty piece of junk.</td>\n",
       "      <td>Negative</td>\n",
       "    </tr>\n",
       "    <tr>\n",
       "      <th>4</th>\n",
       "      <td>6679598</td>\n",
       "      <td>Defective crap.</td>\n",
       "      <td>Negative</td>\n",
       "    </tr>\n",
       "    <tr>\n",
       "      <th>5</th>\n",
       "      <td>6679691</td>\n",
       "      <td>What possesed me to get this junk, I have no i...</td>\n",
       "      <td>Negative</td>\n",
       "    </tr>\n",
       "    <tr>\n",
       "      <th>6</th>\n",
       "      <td>6679710</td>\n",
       "      <td>the worst phone from samsung...crap..... this ...</td>\n",
       "      <td>Negative</td>\n",
       "    </tr>\n",
       "    <tr>\n",
       "      <th>7</th>\n",
       "      <td>6679749</td>\n",
       "      <td>Utter crap.. Sound quality is TERRIBLE.</td>\n",
       "      <td>Negative</td>\n",
       "    </tr>\n",
       "    <tr>\n",
       "      <th>8</th>\n",
       "      <td>6680015</td>\n",
       "      <td>Saggy, floppy piece of junk.</td>\n",
       "      <td>Negative</td>\n",
       "    </tr>\n",
       "    <tr>\n",
       "      <th>9</th>\n",
       "      <td>6680092</td>\n",
       "      <td>What a piece of junk.. I lose more calls on th...</td>\n",
       "      <td>Negative</td>\n",
       "    </tr>\n",
       "    <tr>\n",
       "      <th>10</th>\n",
       "      <td>6679359</td>\n",
       "      <td>Absolutel junk.</td>\n",
       "      <td>Negative</td>\n",
       "    </tr>\n",
       "    <tr>\n",
       "      <th>11</th>\n",
       "      <td>6679481</td>\n",
       "      <td>The worst piece of crap ever along with the Ve...</td>\n",
       "      <td>Negative</td>\n",
       "    </tr>\n",
       "    <tr>\n",
       "      <th>12</th>\n",
       "      <td>6679556</td>\n",
       "      <td>BT50 battery junk!.</td>\n",
       "      <td>Negative</td>\n",
       "    </tr>\n",
       "    <tr>\n",
       "      <th>13</th>\n",
       "      <td>6679710</td>\n",
       "      <td>the worst phone from samsung...crap..... this ...</td>\n",
       "      <td>Negative</td>\n",
       "    </tr>\n",
       "    <tr>\n",
       "      <th>14</th>\n",
       "      <td>6679749</td>\n",
       "      <td>Utter crap.. Sound quality is TERRIBLE.</td>\n",
       "      <td>Negative</td>\n",
       "    </tr>\n",
       "    <tr>\n",
       "      <th>15</th>\n",
       "      <td>6680015</td>\n",
       "      <td>Saggy, floppy piece of junk.</td>\n",
       "      <td>Negative</td>\n",
       "    </tr>\n",
       "    <tr>\n",
       "      <th>16</th>\n",
       "      <td>6679359</td>\n",
       "      <td>Absolutel junk.</td>\n",
       "      <td>Negative</td>\n",
       "    </tr>\n",
       "    <tr>\n",
       "      <th>17</th>\n",
       "      <td>6679481</td>\n",
       "      <td>The worst piece of crap ever along with the Ve...</td>\n",
       "      <td>Negative</td>\n",
       "    </tr>\n",
       "    <tr>\n",
       "      <th>18</th>\n",
       "      <td>6679540</td>\n",
       "      <td>I would recommend purchasing the Jabra JX-10 s...</td>\n",
       "      <td>Positive</td>\n",
       "    </tr>\n",
       "    <tr>\n",
       "      <th>19</th>\n",
       "      <td>6679556</td>\n",
       "      <td>BT50 battery junk!.</td>\n",
       "      <td>Negative</td>\n",
       "    </tr>\n",
       "    <tr>\n",
       "      <th>20</th>\n",
       "      <td>6679702</td>\n",
       "      <td>Overall, I would recommend this phone over the...</td>\n",
       "      <td>Positive</td>\n",
       "    </tr>\n",
       "    <tr>\n",
       "      <th>21</th>\n",
       "      <td>6679710</td>\n",
       "      <td>the worst phone from samsung...crap..... this ...</td>\n",
       "      <td>Negative</td>\n",
       "    </tr>\n",
       "    <tr>\n",
       "      <th>22</th>\n",
       "      <td>6679749</td>\n",
       "      <td>Utter crap.. Sound quality is TERRIBLE.</td>\n",
       "      <td>Negative</td>\n",
       "    </tr>\n",
       "    <tr>\n",
       "      <th>23</th>\n",
       "      <td>6680015</td>\n",
       "      <td>Saggy, floppy piece of junk.</td>\n",
       "      <td>Negative</td>\n",
       "    </tr>\n",
       "  </tbody>\n",
       "</table>\n",
       "</div>"
      ],
      "text/plain": [
       "       task                                               text     label\n",
       "0   6679359                                    Absolutel junk.  Negative\n",
       "1   6679481  The worst piece of crap ever along with the Ve...  Negative\n",
       "2   6679556                                BT50 battery junk!.  Negative\n",
       "3   6679590                              Pretty piece of junk.  Negative\n",
       "4   6679598                                    Defective crap.  Negative\n",
       "5   6679691  What possesed me to get this junk, I have no i...  Negative\n",
       "6   6679710  the worst phone from samsung...crap..... this ...  Negative\n",
       "7   6679749            Utter crap.. Sound quality is TERRIBLE.  Negative\n",
       "8   6680015                       Saggy, floppy piece of junk.  Negative\n",
       "9   6680092  What a piece of junk.. I lose more calls on th...  Negative\n",
       "10  6679359                                    Absolutel junk.  Negative\n",
       "11  6679481  The worst piece of crap ever along with the Ve...  Negative\n",
       "12  6679556                                BT50 battery junk!.  Negative\n",
       "13  6679710  the worst phone from samsung...crap..... this ...  Negative\n",
       "14  6679749            Utter crap.. Sound quality is TERRIBLE.  Negative\n",
       "15  6680015                       Saggy, floppy piece of junk.  Negative\n",
       "16  6679359                                    Absolutel junk.  Negative\n",
       "17  6679481  The worst piece of crap ever along with the Ve...  Negative\n",
       "18  6679540  I would recommend purchasing the Jabra JX-10 s...  Positive\n",
       "19  6679556                                BT50 battery junk!.  Negative\n",
       "20  6679702  Overall, I would recommend this phone over the...  Positive\n",
       "21  6679710  the worst phone from samsung...crap..... this ...  Negative\n",
       "22  6679749            Utter crap.. Sound quality is TERRIBLE.  Negative\n",
       "23  6680015                       Saggy, floppy piece of junk.  Negative"
      ]
     },
     "execution_count": 56,
     "metadata": {},
     "output_type": "execute_result"
    }
   ],
   "source": [
    "pd.DataFrame.from_records(result[\"aggregated\"])"
   ]
  },
  {
   "cell_type": "markdown",
   "metadata": {},
   "source": [
    "...and finally commit them as \"Predictions\" to the target project, by making version control via `model_version` parameter."
   ]
  },
  {
   "cell_type": "code",
   "execution_count": 57,
   "metadata": {},
   "outputs": [
    {
     "data": {
      "text/plain": [
       "{'predictions_count': 12}"
      ]
     },
     "execution_count": 57,
     "metadata": {},
     "output_type": "execute_result"
    }
   ],
   "source": [
    "labelops.commit(result, model_version=\"MyFirstTry\")"
   ]
  }
 ],
 "metadata": {
  "kernelspec": {
   "display_name": "django-env-kernel",
   "language": "python",
   "name": "django-env-kernel"
  },
  "language_info": {
   "codemirror_mode": {
    "name": "ipython",
    "version": 3
   },
   "file_extension": ".py",
   "mimetype": "text/x-python",
   "name": "python",
   "nbconvert_exporter": "python",
   "pygments_lexer": "ipython3",
   "version": "3.8.12"
  }
 },
 "nbformat": 4,
 "nbformat_minor": 4
}
