{
 "cells": [
  {
   "cell_type": "markdown",
   "source": [
    "# Connect to Label Studio"
   ],
   "metadata": {
    "collapsed": false
   },
   "id": "e22fcce0ee4a12fa"
  },
  {
   "cell_type": "code",
   "outputs": [],
   "source": [
    "from label_studio_sdk.client import LabelStudio\n",
    "\n",
    "ls = LabelStudio(\n",
    "    base_url='http://localhost:8080',\n",
    "    api_key='27c982caa9e599c9d81b25b00663e7d4f82c9e3c',\n",
    ")"
   ],
   "metadata": {
    "collapsed": true,
    "ExecuteTime": {
     "end_time": "2024-07-09T09:27:32.753924Z",
     "start_time": "2024-07-09T09:27:31.538397Z"
    }
   },
   "id": "initial_id",
   "execution_count": 1
  },
  {
   "cell_type": "markdown",
   "source": [
    "# Create New Project\n",
    "\n",
    "First we need to define a **Labeling Interface** for the new project:"
   ],
   "metadata": {
    "collapsed": false
   },
   "id": "39e40e7b1120c335"
  },
  {
   "cell_type": "code",
   "outputs": [
    {
     "name": "stdout",
     "output_type": "stream",
     "text": [
      "<View>\n",
      "  <Text name=\"text\" value=\"$text\"/>\n",
      "  <Choices name=\"label\" toName=\"text\">\n",
      "    <Choice value=\"Positive\"/>\n",
      "    <Choice value=\"Negative\"/>\n",
      "  </Choices>\n",
      "</View>\n"
     ]
    }
   ],
   "source": [
    "from label_studio_sdk.label_interface import LabelInterface\n",
    "from label_studio_sdk.label_interface.create import choices\n",
    "\n",
    "label_config = LabelInterface.create({\n",
    "    'text': 'Text',\n",
    "    'label': choices(['Positive', 'Negative'])\n",
    "})\n",
    "print(label_config)"
   ],
   "metadata": {
    "collapsed": false,
    "ExecuteTime": {
     "end_time": "2024-07-09T08:40:57.172903Z",
     "start_time": "2024-07-09T08:40:57.167649Z"
    }
   },
   "id": "93e728713446e20f",
   "execution_count": 3
  },
  {
   "cell_type": "markdown",
   "source": [
    "You can manually create [XML configuration for the labeling interface](https://labelstud.io/tags), but `LabelInterface` class provides a convenient way to create it programmatically.\n",
    "\n",
    "Now let's create a new project with the specified labeling interface:"
   ],
   "metadata": {
    "collapsed": false
   },
   "id": "79099883515b82c2"
  },
  {
   "cell_type": "code",
   "outputs": [],
   "source": [
    "project = ls.projects.create(\n",
    "    title='Text Classification',\n",
    "    label_config=label_config\n",
    ")\n",
    "\n",
    "print(f'Created project:\\n{ls._client_wrapper.get_base_url()}/projects/{project.id}')"
   ],
   "metadata": {
    "collapsed": false
   },
   "id": "7f05d9e5f6d25125"
  },
  {
   "cell_type": "markdown",
   "source": [
    "# Import Tasks to the Project"
   ],
   "metadata": {
    "collapsed": false
   },
   "id": "a106abb6cb3c42a1"
  },
  {
   "cell_type": "code",
   "outputs": [],
   "source": [
    "ls.projects.import_tasks(\n",
    "    id=project.id,\n",
    "    request=[\n",
    "        {\"text\": \"Hello world\"},\n",
    "        {\"text\": \"Hello Label Studio\"},\n",
    "        {\"text\": \"What a beautiful day\"},\n",
    "    ]\n",
    ")"
   ],
   "metadata": {
    "collapsed": false
   },
   "id": "f4d556fb04165434",
   "execution_count": null
  },
  {
   "cell_type": "markdown",
   "source": [
    "## Import Tasks with Pre-annotations"
   ],
   "metadata": {
    "collapsed": false
   },
   "id": "792066fed100cbda"
  },
  {
   "cell_type": "code",
   "outputs": [],
   "source": [
    "ls.projects.import_tasks(\n",
    "    id=project.id,\n",
    "    request=[\n",
    "        {\"text\": \"Hello world\", \"sentiment\": \"Positive\"},\n",
    "        {\"text\": \"Goodbye Label Studio\", \"sentiment\": \"Negative\"},\n",
    "        {\"text\": \"What a beautiful day\", \"sentiment\": \"Positive\"},\n",
    "    ],\n",
    "    preannotated_from_fields=['sentiment']\n",
    ")"
   ],
   "metadata": {
    "collapsed": false
   },
   "id": "5df9f60ae30651f8",
   "execution_count": null
  },
  {
   "cell_type": "markdown",
   "source": [
    "More customizable way to import preannotations:"
   ],
   "metadata": {
    "collapsed": false
   },
   "id": "47dd92fcdab936f8"
  },
  {
   "cell_type": "code",
   "outputs": [],
   "source": [
    "from label_studio_sdk.label_interface.objects import PredictionValue\n",
    "\n",
    "# this returns the same `LabelInterface` object as above\n",
    "li = ls.projects.get(id=project.id).get_label_interface()\n",
    "\n",
    "# by specifying what fields to `include` we can speed up task loading\n",
    "for task in ls.tasks.list(project=project.id, include=[\"id\"]):\n",
    "    task_id = task.id\n",
    "    prediction = PredictionValue(\n",
    "        # tag predictions with specific model version string\n",
    "        # it can help managing multiple models in Label Studio UI\n",
    "        model_version='my_model_v1',\n",
    "        # define your labels here\n",
    "        result=[\n",
    "            li.get_control('label').label(['Positive']),\n",
    "        ]\n",
    "    )\n",
    "    ls.predictions.create(task=task_id, **prediction.model_dump())\n"
   ],
   "metadata": {
    "collapsed": false
   },
   "id": "687a17f9e370f275",
   "execution_count": null
  },
  {
   "cell_type": "markdown",
   "source": [
    "# Export Annotations"
   ],
   "metadata": {
    "collapsed": false
   },
   "id": "58cde0e2e4659c0f"
  },
  {
   "cell_type": "code",
   "outputs": [],
   "source": [
    "for task in ls.tasks.list(project=project.id):\n",
    "    print(task.id)\n",
    "    print(task.annotations)\n",
    "    print(task.predictions)"
   ],
   "metadata": {
    "collapsed": false
   },
   "id": "24e1333f469965b",
   "execution_count": null
  },
  {
   "cell_type": "markdown",
   "source": [
    "Read more about task, annotations and predictions format in Label Studio [documentation](https://labelstud.io/guide/export#Label-Studio-JSON-format-of-annotated-tasks)."
   ],
   "metadata": {
    "collapsed": false
   },
   "id": "b0c80cf5bbc3ffc0"
  }
 ],
 "metadata": {
  "kernelspec": {
   "display_name": "Python 3",
   "language": "python",
   "name": "python3"
  },
  "language_info": {
   "codemirror_mode": {
    "name": "ipython",
    "version": 2
   },
   "file_extension": ".py",
   "mimetype": "text/x-python",
   "name": "python",
   "nbconvert_exporter": "python",
   "pygments_lexer": "ipython2",
   "version": "2.7.6"
  }
 },
 "nbformat": 4,
 "nbformat_minor": 5
}
