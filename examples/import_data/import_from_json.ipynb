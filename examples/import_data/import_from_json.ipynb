{
 "cells": [
  {
   "cell_type": "markdown",
   "id": "6864434c3663764b",
   "metadata": {
    "collapsed": false,
    "jupyter": {
     "outputs_hidden": false
    }
   },
   "source": [
    "# Connect to Label Studio\n",
    "First we need to connect to Label Studio. We can do this by creating a new instance of the LabelStudio class and passing the base URL of the Label Studio instance and the API key as arguments. The API key can be found in the Label Studio instance under the `Account & Settings` tab."
   ]
  },
  {
   "cell_type": "code",
   "execution_count": 2,
   "id": "9d71202607c33cf1",
   "metadata": {
    "ExecuteTime": {
     "end_time": "2024-06-05T12:36:24.871545Z",
     "start_time": "2024-06-05T12:36:23.887741Z"
    },
    "collapsed": false,
    "jupyter": {
     "outputs_hidden": false
    }
   },
   "outputs": [],
   "source": [
    "import os\n",
    "\n",
    "from label_studio_sdk.client import LabelStudio\n",
    "\n",
    "LABEL_STUDIO_URL = os.getenv('LABEL_STUDIO_URL', 'http://localhost:8080')\n",
    "LABEL_STUDIO_API_KEY = os.getenv('LABEL_STUDIO_API_KEY')\n",
    "\n",
    "ls = LabelStudio(base_url=LABEL_STUDIO_URL, api_key=LABEL_STUDIO_API_KEY)"
   ]
  },
  {
   "cell_type": "markdown",
   "id": "ec11da5c15e156d3",
   "metadata": {
    "collapsed": false,
    "jupyter": {
     "outputs_hidden": false
    }
   },
   "source": [
    "# Import tasks from JSON\n",
    "Here we create a new project and import 3 tasks from the list of JSON objects. Each task is a dictionary with a single key `text` and a string value, which then will be used as Label Studio data column.\n",
    " \n",
    "The `import_tasks` method is used to import tasks into a project. The method takes the project ID and a list of tasks as arguments."
   ]
  },
  {
   "cell_type": "code",
   "execution_count": 3,
   "id": "1227698ce462724a",
   "metadata": {
    "ExecuteTime": {
     "end_time": "2024-06-05T12:36:28.283056Z",
     "start_time": "2024-06-05T12:36:28.186438Z"
    },
    "collapsed": false,
    "jupyter": {
     "outputs_hidden": false
    }
   },
   "outputs": [
    {
     "data": {
      "text/plain": [
       "ProjectsImportTasksResponse(annotation_count=None, could_be_tasks_list=None, data_columns=None, duration=None, file_upload_ids=None, found_formats=None, predictions_count=None, task_count=None, import=425764)"
      ]
     },
     "execution_count": 3,
     "metadata": {},
     "output_type": "execute_result"
    }
   ],
   "source": [
    "project = ls.projects.create(title=\"Example import from JSON\")\n",
    "ls.projects.import_tasks(\n",
    "    id=project.id,\n",
    "    request=[\n",
    "        {\"text\": \"Hello world\"},\n",
    "        {\"text\": \"Hello Label Studio\"},\n",
    "        {\"text\": \"What a beautiful day\"},\n",
    "    ]\n",
    ")"
   ]
  }
 ],
 "metadata": {
  "kernelspec": {
   "display_name": "Python 3 (ipykernel)",
   "language": "python",
   "name": "python3"
  },
  "language_info": {
   "codemirror_mode": {
    "name": "ipython",
    "version": 3
   },
   "file_extension": ".py",
   "mimetype": "text/x-python",
   "name": "python",
   "nbconvert_exporter": "python",
   "pygments_lexer": "ipython3",
   "version": "3.13.5"
  }
 },
 "nbformat": 4,
 "nbformat_minor": 5
}
