{
 "cells": [
  {
   "cell_type": "markdown",
   "source": [
    "## Initialize the project, set up the client and project"
   ],
   "metadata": {
    "collapsed": false
   },
   "id": "b0600d1650011dc6"
  },
  {
   "cell_type": "code",
   "outputs": [],
   "source": [
    "# Import the SDK and the client module\n",
    "from label_studio_sdk import Client\n",
    "\n",
    "LABEL_STUDIO_URL = 'https://app.heartex.com'\n",
    "API_KEY = '<your-api-key>'\n",
    "\n",
    "# Connect to the Label Studio API and check the connection\n",
    "ls = Client(url=LABEL_STUDIO_URL, api_key=API_KEY)\n",
    "ls.check_connection()\n",
    "\n",
    "# Start new project \n",
    "project = ls.start_project(\n",
    "    title='Storage Test Project',\n",
    "    label_config='''\n",
    "    <View>\n",
    "      <Image name=\"image\" value=\"$image\" zoom=\"true\"/>\n",
    "      <PolygonLabels name=\"label\" toName=\"image\">\n",
    "        <Label value=\"Airplane\" background=\"red\"/>\n",
    "      </PolygonLabels>\n",
    "    </View>\n",
    "    '''\n",
    ")"
   ],
   "metadata": {
    "collapsed": false,
    "ExecuteTime": {
     "end_time": "2024-03-12T02:27:23.341538Z",
     "start_time": "2024-03-12T02:27:21.640844Z"
    }
   },
   "id": "73a94e1a49cfe3c9",
   "execution_count": 1
  },
  {
   "cell_type": "markdown",
   "source": [
    "## Add a source (import) storage to the project"
   ],
   "metadata": {
    "collapsed": false
   },
   "id": "690d7251eb454b75"
  },
  {
   "cell_type": "code",
   "outputs": [],
   "source": [
    "import_storage = project.connect_s3_import_storage(\n",
    "    title=\"my storage\", \n",
    "    bucket=\"htx-dev\",\n",
    "    prefix=\"dataset/training_set/dogs\",\n",
    "    aws_access_key_id=\"<s3-access-key>\",\n",
    "    aws_secret_access_key=\"<s3-secret-key>\",\n",
    "    use_blob_urls=True,  # \"Treat every bucket object as a source file\", more info: https://labelstud.io/guide/storage#Treat-every-bucket-object-as-a-source-file\n",
    "    regex_filter=\".*jpg\"\n",
    ")"
   ],
   "metadata": {
    "collapsed": false,
    "ExecuteTime": {
     "end_time": "2024-03-12T02:00:05.659227Z",
     "start_time": "2024-03-12T02:00:05.002251Z"
    }
   },
   "id": "e50714816b61fc89",
   "execution_count": 2
  },
  {
   "cell_type": "code",
   "outputs": [
    {
     "data": {
      "text/plain": "{'id': 17632,\n 'type': 's3',\n 'synchronizable': True,\n 'presign': True,\n 'last_sync': None,\n 'last_sync_count': None,\n 'last_sync_job': None,\n 'status': 'initialized',\n 'traceback': None,\n 'meta': {},\n 'title': 'my storage',\n 'description': '',\n 'created_at': '2024-03-12T02:00:05.404977Z',\n 'bucket': 'htx-dev',\n 'prefix': 'dataset/training_set/dogs',\n 'regex_filter': '.*jpg',\n 'use_blob_urls': True,\n 'aws_session_token': None,\n 'aws_sse_kms_key_id': None,\n 'region_name': None,\n 's3_endpoint': None,\n 'presign_ttl': 1,\n 'recursive_scan': False,\n 'project': 58689}"
     },
     "execution_count": 3,
     "metadata": {},
     "output_type": "execute_result"
    }
   ],
   "source": [
    "import_storage"
   ],
   "metadata": {
    "collapsed": false,
    "ExecuteTime": {
     "end_time": "2024-03-12T02:00:05.671880Z",
     "start_time": "2024-03-12T02:00:05.660892Z"
    }
   },
   "id": "76248c359b514c55",
   "execution_count": 3
  },
  {
   "cell_type": "markdown",
   "source": [
    "## Sync import storage to get tasks from the storage "
   ],
   "metadata": {
    "collapsed": false
   },
   "id": "56495cc8c60b839d"
  },
  {
   "cell_type": "code",
   "outputs": [],
   "source": [
    "sync_result = project.sync_import_storage(import_storage['type'], import_storage['id'])"
   ],
   "metadata": {
    "collapsed": false,
    "ExecuteTime": {
     "end_time": "2024-03-12T02:00:06.682288Z",
     "start_time": "2024-03-12T02:00:05.674913Z"
    }
   },
   "id": "b21dfcfa1cc06d8d",
   "execution_count": 4
  },
  {
   "cell_type": "code",
   "outputs": [
    {
     "data": {
      "text/plain": "{'id': 17632,\n 'type': 's3',\n 'synchronizable': True,\n 'presign': True,\n 'last_sync': None,\n 'last_sync_count': None,\n 'last_sync_job': 'f8648608-fbb5-4590-a660-9631803fd95b',\n 'status': 'queued',\n 'traceback': None,\n 'meta': {'attempts': 1, 'time_queued': '2024-03-12 02:00:06.426879+00:00'},\n 'title': 'my storage',\n 'description': '',\n 'created_at': '2024-03-12T02:00:05.404977Z',\n 'bucket': 'htx-dev',\n 'prefix': 'dataset/training_set/dogs',\n 'regex_filter': '.*jpg',\n 'use_blob_urls': True,\n 'aws_session_token': None,\n 'aws_sse_kms_key_id': None,\n 'region_name': None,\n 's3_endpoint': None,\n 'presign_ttl': 1,\n 'recursive_scan': False,\n 'project': 58689}"
     },
     "execution_count": 5,
     "metadata": {},
     "output_type": "execute_result"
    }
   ],
   "source": [
    "sync_result"
   ],
   "metadata": {
    "collapsed": false,
    "ExecuteTime": {
     "end_time": "2024-03-12T02:00:06.688760Z",
     "start_time": "2024-03-12T02:00:06.683698Z"
    }
   },
   "id": "fb7aea35f6d1c361",
   "execution_count": 5
  },
  {
   "cell_type": "markdown",
   "source": [
    "## Get status of synchronization for the storage\n",
    "\n",
    "And wait until sync is completed. "
   ],
   "metadata": {
    "collapsed": false
   },
   "id": "e8909bcce0ffe275"
  },
  {
   "cell_type": "code",
   "outputs": [
    {
     "name": "stdout",
     "output_type": "stream",
     "text": [
      "17632 my storage in_progress\n",
      "17632 my storage in_progress\n",
      "17632 my storage in_progress\n",
      "17632 my storage in_progress\n",
      "17632 my storage in_progress\n",
      "17632 my storage in_progress\n",
      "17632 my storage in_progress\n",
      "17632 my storage in_progress\n",
      "17632 my storage in_progress\n",
      "17632 my storage in_progress\n",
      "17632 my storage in_progress\n",
      "17632 my storage in_progress\n",
      "17632 my storage in_progress\n",
      "17632 my storage completed\n",
      "Import storage 17632 is synced!\n"
     ]
    }
   ],
   "source": [
    "import time\n",
    "\n",
    "while import_storage['status'] != 'completed':\n",
    "    time.sleep(3.0)  # wait for 3 seconds    \n",
    "    \n",
    "    # get all import storages and find the one we need by id\n",
    "    import_storages = project.get_import_storages()\n",
    "    for storage in import_storages:\n",
    "        if import_storage['id'] == storage['id']:\n",
    "            import_storage = storage\n",
    "            print(storage['id'], storage['title'], storage['status'])\n",
    "\n",
    "print(f'Import storage {import_storage[\"id\"]} is synced!')"
   ],
   "metadata": {
    "collapsed": false,
    "ExecuteTime": {
     "end_time": "2024-03-12T02:00:57.268095Z",
     "start_time": "2024-03-12T02:00:06.691848Z"
    }
   },
   "id": "26a9cc0311e30b77",
   "execution_count": 6
  },
  {
   "cell_type": "markdown",
   "source": [
    "## Add a target (export) storage to the project"
   ],
   "metadata": {
    "collapsed": false
   },
   "id": "8e7b78c7908bba75"
  },
  {
   "cell_type": "code",
   "outputs": [],
   "source": [
    "export_storage = project.connect_s3_export_storage(\n",
    "    title=\"my export storage\", \n",
    "    bucket=\"htx-dev\",\n",
    "    prefix=\"test_out\",\n",
    "    aws_access_key_id=\"<s3-access-key>\",\n",
    "    aws_secret_access_key=\"<s3-secret-key>\",\n",
    "    can_delete_objects=False  # if you delete annotations in Label Studio, the corresponding objects in the storage will not be deleted\n",
    ")"
   ],
   "metadata": {
    "collapsed": false,
    "ExecuteTime": {
     "end_time": "2024-03-12T02:06:31.102399Z",
     "start_time": "2024-03-12T02:06:30.528712Z"
    }
   },
   "id": "2ee23267e0319077",
   "execution_count": 4
  },
  {
   "cell_type": "code",
   "outputs": [
    {
     "data": {
      "text/plain": "{'id': 2975,\n 'type': 's3',\n 'synchronizable': True,\n 'last_sync': None,\n 'last_sync_count': None,\n 'last_sync_job': 'd73a8c0d-a600-47f7-b36c-2a0f112a937f',\n 'status': 'queued',\n 'traceback': None,\n 'meta': {'attempts': 1, 'time_queued': '2024-03-12 02:06:30.977353+00:00'},\n 'title': 'my export storage',\n 'description': '',\n 'created_at': '2024-03-12T02:06:30.971049Z',\n 'can_delete_objects': False,\n 'bucket': 'htx-dev',\n 'prefix': 'test_out',\n 'regex_filter': None,\n 'use_blob_urls': False,\n 'aws_session_token': None,\n 'aws_sse_kms_key_id': None,\n 'region_name': None,\n 's3_endpoint': None,\n 'project': 58690}"
     },
     "execution_count": 5,
     "metadata": {},
     "output_type": "execute_result"
    }
   ],
   "source": [
    "export_storage"
   ],
   "metadata": {
    "collapsed": false,
    "ExecuteTime": {
     "end_time": "2024-03-12T02:06:31.837883Z",
     "start_time": "2024-03-12T02:06:31.831130Z"
    }
   },
   "id": "1f4ae7ac1e715d06",
   "execution_count": 5
  },
  {
   "cell_type": "markdown",
   "source": [
    "## Sync target storage to save annotations to the storage\n",
    "\n",
    "Target storages sync automatically, so we don't need to call any methods to sync them. However, if you need to re-sync the storage from the scratch, you can call `sync_export_storage` method."
   ],
   "metadata": {
    "collapsed": false
   },
   "id": "1b6ea2541227029d"
  },
  {
   "cell_type": "code",
   "outputs": [
    {
     "data": {
      "text/plain": "{'id': 2975,\n 'type': 's3',\n 'synchronizable': True,\n 'last_sync': None,\n 'last_sync_count': None,\n 'last_sync_job': 'de6f4d81-3085-49b8-87ef-8ed63fbe1e62',\n 'status': 'queued',\n 'traceback': None,\n 'meta': {'attempts': 2, 'time_queued': '2024-03-12 02:06:34.927315+00:00'},\n 'title': 'my export storage',\n 'description': '',\n 'created_at': '2024-03-12T02:06:30.971049Z',\n 'can_delete_objects': False,\n 'bucket': 'htx-dev',\n 'prefix': 'test_out',\n 'regex_filter': None,\n 'use_blob_urls': False,\n 'aws_session_token': None,\n 'aws_sse_kms_key_id': None,\n 'region_name': None,\n 's3_endpoint': None,\n 'project': 58690}"
     },
     "execution_count": 6,
     "metadata": {},
     "output_type": "execute_result"
    }
   ],
   "source": [
    "sync_result = project.sync_export_storage(export_storage['type'], export_storage['id'])\n",
    "sync_result"
   ],
   "metadata": {
    "collapsed": false,
    "ExecuteTime": {
     "end_time": "2024-03-12T02:06:35.057464Z",
     "start_time": "2024-03-12T02:06:34.486739Z"
    }
   },
   "id": "7e946b1b0811e327",
   "execution_count": 6
  },
  {
   "cell_type": "markdown",
   "source": [
    "## Get status of synchronization for the target storage\n",
    "\n",
    "And wait until sync is completed."
   ],
   "metadata": {
    "collapsed": false
   },
   "id": "12069ee9fdfd9643"
  },
  {
   "cell_type": "code",
   "outputs": [
    {
     "name": "stdout",
     "output_type": "stream",
     "text": [
      "2975 my export storage completed\n",
      "Export storage 2975 is synced!\n"
     ]
    }
   ],
   "source": [
    "import time\n",
    "\n",
    "while export_storage['status'] != 'completed':\n",
    "    time.sleep(3.0)  # wait for 3 seconds    \n",
    "    \n",
    "    # get all import storages and find the one we need by id\n",
    "    export_storages = project.get_export_storages()\n",
    "    for storage in export_storages:\n",
    "        if export_storage['id'] == storage['id']:\n",
    "            export_storage = storage\n",
    "            print(storage['id'], storage['title'], storage['status'])\n",
    "\n",
    "print(f'Export storage {export_storage[\"id\"]} is synced!')"
   ],
   "metadata": {
    "collapsed": false,
    "ExecuteTime": {
     "end_time": "2024-03-12T02:06:55.721024Z",
     "start_time": "2024-03-12T02:06:52.127710Z"
    }
   },
   "id": "3211ecde1d7db03e",
   "execution_count": 7
  },
  {
   "cell_type": "code",
   "outputs": [
    {
     "data": {
      "text/plain": "{'id': 2975,\n 'type': 's3',\n 'synchronizable': True,\n 'last_sync': '2024-03-12T02:06:34.986049Z',\n 'last_sync_count': 0,\n 'last_sync_job': 'de6f4d81-3085-49b8-87ef-8ed63fbe1e62',\n 'status': 'completed',\n 'traceback': None,\n 'meta': {'attempts': 2,\n  'duration': 0.005824,\n  'time_queued': '2024-03-12 02:06:34.927315+00:00',\n  'time_completed': '2024-03-12 02:06:34.986054+00:00',\n  'time_last_ping': '2024-03-12 02:06:34.980230+00:00',\n  'time_in_progress': '2024-03-12 02:06:34.980230+00:00',\n  'total_annotations': 0},\n 'title': 'my export storage',\n 'description': '',\n 'created_at': '2024-03-12T02:06:30.971049Z',\n 'can_delete_objects': False,\n 'bucket': 'htx-dev',\n 'prefix': 'test_out',\n 'regex_filter': None,\n 'use_blob_urls': False,\n 'aws_session_token': None,\n 'aws_sse_kms_key_id': None,\n 'region_name': None,\n 's3_endpoint': None,\n 'project': 58690}"
     },
     "execution_count": 8,
     "metadata": {},
     "output_type": "execute_result"
    }
   ],
   "source": [
    "export_storage"
   ],
   "metadata": {
    "collapsed": false,
    "ExecuteTime": {
     "end_time": "2024-03-12T02:07:10.776384Z",
     "start_time": "2024-03-12T02:07:10.768040Z"
    }
   },
   "id": "81f2392b7ac1a1fc",
   "execution_count": 8
  },
  {
   "cell_type": "code",
   "outputs": [
    {
     "name": "stdout",
     "output_type": "stream",
     "text": [
      "[2024-03-12 02:30:01,526] [ERROR] [label_studio_sdk.client::log_response_error::467] \n",
      "--------------------------------------------\n",
      "Request URL: https://app.heartex.com/api/storages/s3s/\n",
      "Response status code: 400\n",
      "Response content:\n",
      "{\n",
      "  \"id\": \"991fe1d5-2bf4-4689-817c-a41fea1c5f29\",\n",
      "  \"status_code\": 400,\n",
      "  \"version\": \"1.11.1.dev0\",\n",
      "  \"detail\": \"Validation error\",\n",
      "  \"exc_info\": null,\n",
      "  \"validation_errors\": {\n",
      "    \"non_field_errors\": [\n",
      "      \"Wrong credentials for S3 sandbox-tmp-output\"\n",
      "    ]\n",
      "  }\n",
      "}\n",
      "\n",
      "SDK error traceback:\n"
     ]
    },
    {
     "ename": "HTTPError",
     "evalue": "400 Client Error: Bad Request for url: https://app.heartex.com/api/storages/s3s/",
     "output_type": "error",
     "traceback": [
      "\u001B[0;31m---------------------------------------------------------------------------\u001B[0m",
      "\u001B[0;31mHTTPError\u001B[0m                                 Traceback (most recent call last)",
      "Cell \u001B[0;32mIn[5], line 1\u001B[0m\n\u001B[0;32m----> 1\u001B[0m s3_iam_storage \u001B[38;5;241m=\u001B[39m \u001B[43mproject\u001B[49m\u001B[38;5;241;43m.\u001B[39;49m\u001B[43mconnect_s3s_iam_import_storage\u001B[49m\u001B[43m(\u001B[49m\n\u001B[1;32m      2\u001B[0m \u001B[43m    \u001B[49m\u001B[43mtitle\u001B[49m\u001B[38;5;241;43m=\u001B[39;49m\u001B[38;5;124;43m\"\u001B[39;49m\u001B[38;5;124;43mmy s3_iam storage\u001B[39;49m\u001B[38;5;124;43m\"\u001B[39;49m\u001B[43m,\u001B[49m\u001B[43m \u001B[49m\n\u001B[1;32m      3\u001B[0m \u001B[43m    \u001B[49m\u001B[43mbucket\u001B[49m\u001B[38;5;241;43m=\u001B[39;49m\u001B[38;5;124;43m\"\u001B[39;49m\u001B[38;5;124;43msandbox-tmp-output\u001B[39;49m\u001B[38;5;124;43m\"\u001B[39;49m\u001B[43m,\u001B[49m\n\u001B[1;32m      4\u001B[0m \u001B[43m    \u001B[49m\u001B[43mrole_arn\u001B[49m\u001B[38;5;241;43m=\u001B[39;49m\u001B[38;5;124;43m\"\u001B[39;49m\u001B[38;5;124;43marn:aws:iam::726004645192:role/RW_to_sandbox2_bucket\u001B[39;49m\u001B[38;5;124;43m\"\u001B[39;49m\u001B[43m,\u001B[49m\n\u001B[1;32m      5\u001B[0m \u001B[43m)\u001B[49m\n",
      "File \u001B[0;32m/p/heartex/label-studio-sdk/label_studio_sdk/project.py:1591\u001B[0m, in \u001B[0;36mProject.connect_s3s_iam_import_storage\u001B[0;34m(self, role_arn, bucket, prefix, regex_filter, use_blob_urls, presign, presign_ttl, title, description, region_name, s3_endpoint, external_id, recursive_scan, aws_sse_kms_key_id, synchronizable, last_sync, last_sync_count, last_sync_job, status, traceback, meta)\u001B[0m\n\u001B[1;32m   1535\u001B[0m \u001B[38;5;250m\u001B[39m\u001B[38;5;124;03m\"\"\"Create S3 secured import storage with IAM role access.\u001B[39;00m\n\u001B[1;32m   1536\u001B[0m \n\u001B[1;32m   1537\u001B[0m \u001B[38;5;124;03mParameters\u001B[39;00m\n\u001B[0;32m   (...)\u001B[0m\n\u001B[1;32m   1573\u001B[0m \u001B[38;5;124;03m    containing the response from the API including storage ID and type, among other details.\u001B[39;00m\n\u001B[1;32m   1574\u001B[0m \u001B[38;5;124;03m\"\"\"\u001B[39;00m\n\u001B[1;32m   1575\u001B[0m payload \u001B[38;5;241m=\u001B[39m {\n\u001B[1;32m   1576\u001B[0m     \u001B[38;5;124m\"\u001B[39m\u001B[38;5;124mbucket\u001B[39m\u001B[38;5;124m\"\u001B[39m: bucket,\n\u001B[1;32m   1577\u001B[0m     \u001B[38;5;124m\"\u001B[39m\u001B[38;5;124mprefix\u001B[39m\u001B[38;5;124m\"\u001B[39m: prefix,\n\u001B[0;32m   (...)\u001B[0m\n\u001B[1;32m   1589\u001B[0m     \u001B[38;5;124m\"\u001B[39m\u001B[38;5;124mproject\u001B[39m\u001B[38;5;124m\"\u001B[39m: \u001B[38;5;28mself\u001B[39m\u001B[38;5;241m.\u001B[39mid,\n\u001B[1;32m   1590\u001B[0m }\n\u001B[0;32m-> 1591\u001B[0m response \u001B[38;5;241m=\u001B[39m \u001B[38;5;28;43mself\u001B[39;49m\u001B[38;5;241;43m.\u001B[39;49m\u001B[43mmake_request\u001B[49m\u001B[43m(\u001B[49m\u001B[38;5;124;43m\"\u001B[39;49m\u001B[38;5;124;43mPOST\u001B[39;49m\u001B[38;5;124;43m\"\u001B[39;49m\u001B[43m,\u001B[49m\u001B[43m \u001B[49m\u001B[38;5;124;43m\"\u001B[39;49m\u001B[38;5;124;43m/api/storages/s3s/\u001B[39;49m\u001B[38;5;124;43m\"\u001B[39;49m\u001B[43m,\u001B[49m\u001B[43m \u001B[49m\u001B[43mjson\u001B[49m\u001B[38;5;241;43m=\u001B[39;49m\u001B[43mpayload\u001B[49m\u001B[43m)\u001B[49m\n\u001B[1;32m   1592\u001B[0m \u001B[38;5;28;01mreturn\u001B[39;00m response\u001B[38;5;241m.\u001B[39mjson()\n",
      "File \u001B[0;32m/p/heartex/label-studio-sdk/label_studio_sdk/client.py:457\u001B[0m, in \u001B[0;36mClient.make_request\u001B[0;34m(self, method, url, *args, **kwargs)\u001B[0m\n\u001B[1;32m    455\u001B[0m     \u001B[38;5;28;01mif\u001B[39;00m response\u001B[38;5;241m.\u001B[39mstatus_code \u001B[38;5;241m>\u001B[39m\u001B[38;5;241m=\u001B[39m \u001B[38;5;241m400\u001B[39m:\n\u001B[1;32m    456\u001B[0m         \u001B[38;5;28mself\u001B[39m\u001B[38;5;241m.\u001B[39mlog_response_error(response)\n\u001B[0;32m--> 457\u001B[0m         \u001B[43mresponse\u001B[49m\u001B[38;5;241;43m.\u001B[39;49m\u001B[43mraise_for_status\u001B[49m\u001B[43m(\u001B[49m\u001B[43m)\u001B[49m\n\u001B[1;32m    459\u001B[0m \u001B[38;5;28;01mreturn\u001B[39;00m response\n",
      "File \u001B[0;32m/p/heartex/label-studio-sdk/env3/lib/python3.9/site-packages/requests/models.py:1021\u001B[0m, in \u001B[0;36mResponse.raise_for_status\u001B[0;34m(self)\u001B[0m\n\u001B[1;32m   1016\u001B[0m     http_error_msg \u001B[38;5;241m=\u001B[39m (\n\u001B[1;32m   1017\u001B[0m         \u001B[38;5;124mf\u001B[39m\u001B[38;5;124m\"\u001B[39m\u001B[38;5;132;01m{\u001B[39;00m\u001B[38;5;28mself\u001B[39m\u001B[38;5;241m.\u001B[39mstatus_code\u001B[38;5;132;01m}\u001B[39;00m\u001B[38;5;124m Server Error: \u001B[39m\u001B[38;5;132;01m{\u001B[39;00mreason\u001B[38;5;132;01m}\u001B[39;00m\u001B[38;5;124m for url: \u001B[39m\u001B[38;5;132;01m{\u001B[39;00m\u001B[38;5;28mself\u001B[39m\u001B[38;5;241m.\u001B[39murl\u001B[38;5;132;01m}\u001B[39;00m\u001B[38;5;124m\"\u001B[39m\n\u001B[1;32m   1018\u001B[0m     )\n\u001B[1;32m   1020\u001B[0m \u001B[38;5;28;01mif\u001B[39;00m http_error_msg:\n\u001B[0;32m-> 1021\u001B[0m     \u001B[38;5;28;01mraise\u001B[39;00m HTTPError(http_error_msg, response\u001B[38;5;241m=\u001B[39m\u001B[38;5;28mself\u001B[39m)\n",
      "\u001B[0;31mHTTPError\u001B[0m: 400 Client Error: Bad Request for url: https://app.heartex.com/api/storages/s3s/"
     ]
    }
   ],
   "source": [
    "s3_iam_storage = project.connect_s3s_iam_import_storage(\n",
    "    title=\"my s3_iam storage\", \n",
    "    bucket=\"sandbox-tmp-output\",\n",
    "    role_arn=\"arn:aws:iam::726004645192:role/RW_to_sandbox2_bucket\",\n",
    ")"
   ],
   "metadata": {
    "collapsed": false,
    "ExecuteTime": {
     "end_time": "2024-03-12T02:30:01.560700Z",
     "start_time": "2024-03-12T02:30:00.715904Z"
    }
   },
   "id": "a6e165fce917e0f3",
   "execution_count": 5
  },
  {
   "cell_type": "code",
   "outputs": [
    {
     "data": {
      "text/plain": "<label_studio_sdk.project.Project at 0x7f2fdea1c9a0>"
     },
     "execution_count": 15,
     "metadata": {},
     "output_type": "execute_result"
    }
   ],
   "source": [
    "project\n"
   ],
   "metadata": {
    "collapsed": false,
    "ExecuteTime": {
     "end_time": "2024-03-12T02:24:16.466018Z",
     "start_time": "2024-03-12T02:24:11.087643Z"
    }
   },
   "id": "d86ac5ef7d727471",
   "execution_count": 15
  },
  {
   "cell_type": "code",
   "outputs": [],
   "source": [],
   "metadata": {
    "collapsed": false
   },
   "id": "7ce906a2cd4ebc22"
  }
 ],
 "metadata": {
  "kernelspec": {
   "display_name": "Python 3",
   "language": "python",
   "name": "python3"
  },
  "language_info": {
   "codemirror_mode": {
    "name": "ipython",
    "version": 2
   },
   "file_extension": ".py",
   "mimetype": "text/x-python",
   "name": "python",
   "nbconvert_exporter": "python",
   "pygments_lexer": "ipython2",
   "version": "2.7.6"
  }
 },
 "nbformat": 4,
 "nbformat_minor": 5
}
