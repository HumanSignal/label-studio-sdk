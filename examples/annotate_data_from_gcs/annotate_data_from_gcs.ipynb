{
 "cells": [
  {
   "cell_type": "markdown",
   "metadata": {},
   "source": [
    "# Import data from Google Cloud Storage (GCS)"
   ]
  },
  {
   "cell_type": "markdown",
   "metadata": {},
   "source": [
    "It's convenient and secure to host data in the cloud for data labeling, then sync task references to Label Studio to allow data annotators to view and label the tasks without your data leaving the secure cloud bucket. \n",
    "\n",
    "If your data is hosted in Google Cloud Storage (GCS), you can write a Python script to continuously sync data from the bucket with Label Studio. Follow this example to see how to do that with the [Label Studio SDK](https://api.labelstud.io/). "
   ]
  },
  {
   "cell_type": "markdown",
   "metadata": {},
   "source": [
    "## Get your GCS bucket ready"
   ]
  },
  {
   "cell_type": "markdown",
   "metadata": {},
   "source": [
    "Connect to your GCS bucket and create a list of task references that Label Studio can use, based on the contents of your bucket. You need to ensure you have [authenticated to the Google Cloud using GOOGLE_APPLICATION_CREDENTIALS](https://developers.google.com/workspace/guides/auth-overview)"
   ]
  },
  {
   "cell_type": "code",
   "execution_count": 1,
   "metadata": {
    "ExecuteTime": {
     "end_time": "2024-06-10T13:51:37.586733Z",
     "start_time": "2024-06-10T13:51:37.579213Z"
    }
   },
   "outputs": [],
   "source": [
    "import os\n",
    "\n",
    "BUCKET_NAME = 'your-bucket-name'  # specify your bucket name here\n",
    "PREFIX = 'sub/directory'  # specify your prefix here\n",
    "# assuming you service account key is stored in GOOGLE_APPLICATION_CREDENTIALS\n",
    "GOOGLE_APPLICATION_CREDENTIALS_FILE = os.getenv('GOOGLE_APPLICATION_CREDENTIALS') \n",
    "with open(GOOGLE_APPLICATION_CREDENTIALS_FILE) as f:\n",
    "    credentials = f.read()"
   ]
  },
  {
   "cell_type": "markdown",
   "metadata": {},
   "source": [
    "## Create a Label Studio Project"
   ]
  },
  {
   "cell_type": "markdown",
   "metadata": {},
   "source": [
    "Connect to the Label Studio API with your personal API key, which you can retrieve from your user account page, and confirm you can successfully connect:"
   ]
  },
  {
   "cell_type": "code",
   "execution_count": 2,
   "metadata": {
    "ExecuteTime": {
     "end_time": "2024-06-10T13:51:39.936077Z",
     "start_time": "2024-06-10T13:51:39.027219Z"
    }
   },
   "outputs": [],
   "source": [
    "from label_studio_sdk.client import LabelStudio\n",
    "LABEL_STUDIO_URL = 'http://localhost:8080'\n",
    "API_KEY = '27c982caa9e599c9d81b25b00663e7d4f82c9e3c'\n",
    "\n",
    "ls = LabelStudio(base_url=LABEL_STUDIO_URL, api_key=API_KEY)"
   ]
  },
  {
   "cell_type": "markdown",
   "metadata": {},
   "source": [
    "Create the project. In this example, the project is a basic [image object detection project](https://labelstud.io/templates/image_bbox.html):"
   ]
  },
  {
   "cell_type": "code",
   "execution_count": 11,
   "metadata": {
    "ExecuteTime": {
     "end_time": "2024-06-10T13:57:06.576100Z",
     "start_time": "2024-06-10T13:57:06.502148Z"
    }
   },
   "outputs": [],
   "source": [
    "project = ls.projects.create(\n",
    "    title='Using Images from GCS',\n",
    "    label_config='''\n",
    "    <View>\n",
    "        <Image name=\"image\" value=\"$image\"/>\n",
    "        <RectangleLabels name=\"objects\" toName=\"image\">\n",
    "            <Label value=\"Airplane\"/>\n",
    "            <Label value=\"Car\"/>\n",
    "        </RectangleLabels>\n",
    "    </View>\n",
    "    '''\n",
    ")"
   ]
  },
  {
   "cell_type": "markdown",
   "metadata": {},
   "source": [
    "## Connect to your GCS bucket\n",
    "\n",
    "The following parameters are required to connect to your GCS bucket:"
   ]
  },
  {
   "cell_type": "code",
   "outputs": [],
   "source": [
    "connection_params = {\n",
    "    # project id where the storage is connected\n",
    "    'project': project.id,\n",
    "    # bucket name\n",
    "    'bucket': BUCKET_NAME,\n",
    "    # subdirectory in the bucket\n",
    "    'prefix': PREFIX,\n",
    "    # regex filter for files in the bucket - when not used, no files are retrieved\n",
    "    'regex_filter': '.*\\.jpg',\n",
    "    # google application credentials\n",
    "    'google_application_credentials': credentials,\n",
    "    # interpret the file as a blob url, like images 'gs://bucket_name/prefix/filename.jpg'\n",
    "    'use_blob_urls': True,\n",
    "    # presign the urls to expose data with `https://` protocol\n",
    "    'presign': True,\n",
    "    # presign ttl in minutes\n",
    "    'presign_ttl': 1\n",
    "}"
   ],
   "metadata": {
    "collapsed": false,
    "ExecuteTime": {
     "end_time": "2024-06-10T14:07:45.015860Z",
     "start_time": "2024-06-10T14:07:45.011484Z"
    }
   },
   "execution_count": 13
  },
  {
   "cell_type": "markdown",
   "source": [
    "Before creating the connection, validate the connection parameters to ensure they are correct:"
   ],
   "metadata": {
    "collapsed": false
   }
  },
  {
   "cell_type": "code",
   "outputs": [],
   "source": [
    "ls.import_storage.gcs.validate(**connection_params)"
   ],
   "metadata": {
    "collapsed": false,
    "ExecuteTime": {
     "end_time": "2024-06-10T14:07:47.717779Z",
     "start_time": "2024-06-10T14:07:47.000889Z"
    }
   },
   "execution_count": 14
  },
  {
   "cell_type": "markdown",
   "source": [
    "Connect your newly-created project to your GCS bucket:"
   ],
   "metadata": {}
  },
  {
   "cell_type": "code",
   "outputs": [],
   "source": [
    "storage = ls.import_storage.gcs.create(**connection_params)"
   ],
   "metadata": {
    "ExecuteTime": {
     "end_time": "2024-06-10T14:07:58.524730Z",
     "start_time": "2024-06-10T14:07:58.143611Z"
    }
   },
   "execution_count": 15
  },
  {
   "cell_type": "markdown",
   "metadata": {},
   "source": [
    "## Sync tasks from GCS to Label Studio"
   ]
  },
  {
   "cell_type": "markdown",
   "metadata": {},
   "source": [
    "After connecting to your bucket, you can import your private GCS links to Label Studio. When opening in Label Studio interface, they're automatically presigned for security! "
   ]
  },
  {
   "cell_type": "code",
   "execution_count": 16,
   "metadata": {
    "ExecuteTime": {
     "end_time": "2024-06-10T14:08:10.181641Z",
     "start_time": "2024-06-10T14:08:06.237968Z"
    }
   },
   "outputs": [
    {
     "data": {
      "text/plain": "GcsImportStorage(id=7, type='gcs', synchronizable=True, presign=True, bucket='heartex-test-images', prefix='cells/', regex_filter='.*\\\\.jpg', use_blob_urls=True, google_application_credentials=None, google_project_id=None, last_sync=datetime.datetime(2024, 6, 10, 14, 8, 10, 127188, tzinfo=datetime.timezone.utc), last_sync_count=132, last_sync_job=None, status='completed', traceback=None, meta={'attempts': 1, 'time_queued': '2024-06-10 14:08:06.561108+00:00', 'time_in_progress': '2024-06-10 14:08:06.566219+00:00', 'time_last_ping': '2024-06-10 14:08:06.566219+00:00', 'time_completed': '2024-06-10 14:08:10.127198+00:00', 'duration': 3.560979, 'tasks_existed': 0}, title=None, description=None, created_at=datetime.datetime(2024, 6, 10, 14, 7, 58, 472871, tzinfo=datetime.timezone.utc), presign_ttl=1, project=67)"
     },
     "execution_count": 16,
     "metadata": {},
     "output_type": "execute_result"
    }
   ],
   "source": [
    "ls.import_storage.gcs.sync(id=storage.id)"
   ]
  },
  {
   "cell_type": "markdown",
   "metadata": {},
   "source": [
    "## Conclusion"
   ]
  },
  {
   "cell_type": "markdown",
   "metadata": {},
   "source": [
    "In a few lines of code you assessed the data in your bucket, set up a new labeling project, and synced the tasks to the project. You can adapt this example to more easily create a data creation to data labeling pipeline."
   ]
  }
 ],
 "metadata": {
  "kernelspec": {
   "display_name": "Python 3",
   "language": "python",
   "name": "python3"
  },
  "language_info": {
   "codemirror_mode": {
    "name": "ipython",
    "version": 3
   },
   "file_extension": ".py",
   "mimetype": "text/x-python",
   "name": "python",
   "nbconvert_exporter": "python",
   "pygments_lexer": "ipython3",
   "version": "3.8.12"
  }
 },
 "nbformat": 4,
 "nbformat_minor": 4
}
