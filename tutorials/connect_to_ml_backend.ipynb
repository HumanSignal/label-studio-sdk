{
 "cells": [
  {
   "cell_type": "code",
   "execution_count": null,
   "id": "initial_id",
   "metadata": {
    "collapsed": true
   },
   "outputs": [],
   "source": [
    "from label_studio_sdk.client import LabelStudio"
   ]
  },
  {
   "cell_type": "code",
   "execution_count": null,
   "id": "e9df445f9d4a746c",
   "metadata": {
    "collapsed": false
   },
   "outputs": [],
   "source": [
    "import os\n",
    "\n",
    "ls = LabelStudio(\n",
    "    base_url=os.getenv('LABEL_STUDIO_URL', 'http://localhost:8080'),\n",
    "    api_key=os.getenv('LABEL_STUDIO_API_KEY')\n",
    ")"
   ]
  },
  {
   "cell_type": "code",
   "execution_count": null,
   "id": "71598abdbca596e2",
   "metadata": {
    "collapsed": false
   },
   "outputs": [],
   "source": [
    "project = ls.projects.create(\n",
    "    title='Live OCR',\n",
    "    description='A project to demonstrate live OCR with connected Tesseract model'\n",
    ")"
   ]
  },
  {
   "cell_type": "markdown",
   "id": "a04744cba5e2a576",
   "metadata": {
    "collapsed": false
   },
   "source": [
    "# Create ML backend server\n",
    "\n",
    "Go to the `examples/tesseract` directory and run the following command to start the ML backend server:\n",
    "```\n",
    "docker-compose up\n",
    "```\n",
    "\n",
    "It will create a server with Tesseract OCR model listening on `http://localhost:9090`."
   ]
  },
  {
   "cell_type": "markdown",
   "id": "45b8c6210f1df70d",
   "metadata": {
    "collapsed": false
   },
   "source": [
    "# Connect ML backend server to the project"
   ]
  },
  {
   "cell_type": "code",
   "execution_count": null,
   "id": "f9f90acea44fdf4e",
   "metadata": {
    "collapsed": false
   },
   "outputs": [],
   "source": [
    "ls.ml.create(\n",
    "    title='Tesseract OCR',\n",
    "    description='A model to perform OCR using Tesseract',\n",
    "    url=os.getenv('ML_BACKEND_URL', 'http://localhost:9090'),\n",
    "    project=project.id,\n",
    "    is_interactive=True\n",
    ")"
   ]
  }
 ],
 "metadata": {
  "kernelspec": {
   "display_name": "Python 3",
   "language": "python",
   "name": "python3"
  },
  "language_info": {
   "codemirror_mode": {
    "name": "ipython",
    "version": 2
   },
   "file_extension": ".py",
   "mimetype": "text/x-python",
   "name": "python",
   "nbconvert_exporter": "python",
   "pygments_lexer": "ipython2",
   "version": "2.7.6"
  }
 },
 "nbformat": 4,
 "nbformat_minor": 5
}
