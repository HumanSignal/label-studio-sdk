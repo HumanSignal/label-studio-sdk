{
 "cells": [
  {
   "cell_type": "code",
   "execution_count": 9,
   "id": "initial_id",
   "metadata": {
    "ExecuteTime": {
     "end_time": "2024-05-16T15:24:24.348763Z",
     "start_time": "2024-05-16T15:24:24.225324Z"
    }
   },
   "outputs": [
    {
     "data": {
      "text/plain": "'LEAP-1004'"
     },
     "execution_count": 9,
     "metadata": {},
     "output_type": "execute_result"
    }
   ],
   "source": [
    "from label_studio_python.client import LabelStudioApi\n",
    "\n",
    "client = LabelStudioApi(api_key=\"27c982caa9e599c9d81b25b00663e7d4f82c9e3c\")\n",
    "response = client.projects.api_projects_list()\n",
    "response.results[0].title"
   ]
  }
 ],
 "metadata": {
  "kernelspec": {
   "display_name": "Python 3",
   "language": "python",
   "name": "python3"
  },
  "language_info": {
   "codemirror_mode": {
    "name": "ipython",
    "version": 3
   },
   "file_extension": ".py",
   "mimetype": "text/x-python",
   "name": "python",
   "nbconvert_exporter": "python",
   "pygments_lexer": "ipython3",
   "version": "3.8.12"
  }
 },
 "nbformat": 4,
 "nbformat_minor": 5
}
